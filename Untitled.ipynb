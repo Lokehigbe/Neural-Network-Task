{
  "nbformat": 4,
  "nbformat_minor": 0,
  "metadata": {
    "colab": {
      "name": "Untitled",
      "provenance": [],
      "collapsed_sections": [],
      "toc_visible": true,
      "mount_file_id": "1b6Ze5nIMT-lXy4hrFGqSPz-Cis4DjZj1",
      "authorship_tag": "ABX9TyNaUNZNXzlmta7jE9man9Em"
    },
    "kernelspec": {
      "name": "python3",
      "display_name": "Python 3"
    }
  },
  "cells": [
    {
      "cell_type": "code",
      "metadata": {
        "id": "jUB0m2QQV9ix",
        "colab_type": "code",
        "colab": {}
      },
      "source": [
        "import pandas as pd\n",
        "import numpy as np\n",
        "import matplotlib.pyplot as plt\n",
        "from sklearn import preprocessing\n",
        "from sklearn.model_selection import train_test_split\n",
        "from keras.models import Sequential\n",
        "from keras.layers import Dense\n",
        "from keras.layers import Dropout\n",
        "from keras import regularizers\n",
        "%matplotlib inline"
      ],
      "execution_count": 0,
      "outputs": []
    },
    {
      "cell_type": "markdown",
      "metadata": {
        "id": "ZsbZp69ARD1c",
        "colab_type": "text"
      },
      "source": [
        "We need to read the dataset, and to do this we, have to use panda.\n"
      ]
    },
    {
      "cell_type": "code",
      "metadata": {
        "id": "qPtufAuSPMKx",
        "colab_type": "code",
        "colab": {}
      },
      "source": [
        "df = pd.read_csv('/housepricedata.csv')"
      ],
      "execution_count": 0,
      "outputs": []
    },
    {
      "cell_type": "code",
      "metadata": {
        "id": "aMdMsv5fPMVe",
        "colab_type": "code",
        "colab": {
          "base_uri": "https://localhost:8080/",
          "height": 419
        },
        "outputId": "af51b654-f757-43b7-fd1c-120509cbcdb2"
      },
      "source": [
        "df"
      ],
      "execution_count": 67,
      "outputs": [
        {
          "output_type": "execute_result",
          "data": {
            "text/html": [
              "<div>\n",
              "<style scoped>\n",
              "    .dataframe tbody tr th:only-of-type {\n",
              "        vertical-align: middle;\n",
              "    }\n",
              "\n",
              "    .dataframe tbody tr th {\n",
              "        vertical-align: top;\n",
              "    }\n",
              "\n",
              "    .dataframe thead th {\n",
              "        text-align: right;\n",
              "    }\n",
              "</style>\n",
              "<table border=\"1\" class=\"dataframe\">\n",
              "  <thead>\n",
              "    <tr style=\"text-align: right;\">\n",
              "      <th></th>\n",
              "      <th>LotArea</th>\n",
              "      <th>OverallQual</th>\n",
              "      <th>OverallCond</th>\n",
              "      <th>TotalBsmtSF</th>\n",
              "      <th>FullBath</th>\n",
              "      <th>HalfBath</th>\n",
              "      <th>BedroomAbvGr</th>\n",
              "      <th>TotRmsAbvGrd</th>\n",
              "      <th>Fireplaces</th>\n",
              "      <th>GarageArea</th>\n",
              "      <th>AboveMedianPrice</th>\n",
              "    </tr>\n",
              "  </thead>\n",
              "  <tbody>\n",
              "    <tr>\n",
              "      <th>0</th>\n",
              "      <td>8450</td>\n",
              "      <td>7</td>\n",
              "      <td>5</td>\n",
              "      <td>856</td>\n",
              "      <td>2</td>\n",
              "      <td>1</td>\n",
              "      <td>3</td>\n",
              "      <td>8</td>\n",
              "      <td>0</td>\n",
              "      <td>548</td>\n",
              "      <td>1</td>\n",
              "    </tr>\n",
              "    <tr>\n",
              "      <th>1</th>\n",
              "      <td>9600</td>\n",
              "      <td>6</td>\n",
              "      <td>8</td>\n",
              "      <td>1262</td>\n",
              "      <td>2</td>\n",
              "      <td>0</td>\n",
              "      <td>3</td>\n",
              "      <td>6</td>\n",
              "      <td>1</td>\n",
              "      <td>460</td>\n",
              "      <td>1</td>\n",
              "    </tr>\n",
              "    <tr>\n",
              "      <th>2</th>\n",
              "      <td>11250</td>\n",
              "      <td>7</td>\n",
              "      <td>5</td>\n",
              "      <td>920</td>\n",
              "      <td>2</td>\n",
              "      <td>1</td>\n",
              "      <td>3</td>\n",
              "      <td>6</td>\n",
              "      <td>1</td>\n",
              "      <td>608</td>\n",
              "      <td>1</td>\n",
              "    </tr>\n",
              "    <tr>\n",
              "      <th>3</th>\n",
              "      <td>9550</td>\n",
              "      <td>7</td>\n",
              "      <td>5</td>\n",
              "      <td>756</td>\n",
              "      <td>1</td>\n",
              "      <td>0</td>\n",
              "      <td>3</td>\n",
              "      <td>7</td>\n",
              "      <td>1</td>\n",
              "      <td>642</td>\n",
              "      <td>0</td>\n",
              "    </tr>\n",
              "    <tr>\n",
              "      <th>4</th>\n",
              "      <td>14260</td>\n",
              "      <td>8</td>\n",
              "      <td>5</td>\n",
              "      <td>1145</td>\n",
              "      <td>2</td>\n",
              "      <td>1</td>\n",
              "      <td>4</td>\n",
              "      <td>9</td>\n",
              "      <td>1</td>\n",
              "      <td>836</td>\n",
              "      <td>1</td>\n",
              "    </tr>\n",
              "    <tr>\n",
              "      <th>...</th>\n",
              "      <td>...</td>\n",
              "      <td>...</td>\n",
              "      <td>...</td>\n",
              "      <td>...</td>\n",
              "      <td>...</td>\n",
              "      <td>...</td>\n",
              "      <td>...</td>\n",
              "      <td>...</td>\n",
              "      <td>...</td>\n",
              "      <td>...</td>\n",
              "      <td>...</td>\n",
              "    </tr>\n",
              "    <tr>\n",
              "      <th>1455</th>\n",
              "      <td>7917</td>\n",
              "      <td>6</td>\n",
              "      <td>5</td>\n",
              "      <td>953</td>\n",
              "      <td>2</td>\n",
              "      <td>1</td>\n",
              "      <td>3</td>\n",
              "      <td>7</td>\n",
              "      <td>1</td>\n",
              "      <td>460</td>\n",
              "      <td>1</td>\n",
              "    </tr>\n",
              "    <tr>\n",
              "      <th>1456</th>\n",
              "      <td>13175</td>\n",
              "      <td>6</td>\n",
              "      <td>6</td>\n",
              "      <td>1542</td>\n",
              "      <td>2</td>\n",
              "      <td>0</td>\n",
              "      <td>3</td>\n",
              "      <td>7</td>\n",
              "      <td>2</td>\n",
              "      <td>500</td>\n",
              "      <td>1</td>\n",
              "    </tr>\n",
              "    <tr>\n",
              "      <th>1457</th>\n",
              "      <td>9042</td>\n",
              "      <td>7</td>\n",
              "      <td>9</td>\n",
              "      <td>1152</td>\n",
              "      <td>2</td>\n",
              "      <td>0</td>\n",
              "      <td>4</td>\n",
              "      <td>9</td>\n",
              "      <td>2</td>\n",
              "      <td>252</td>\n",
              "      <td>1</td>\n",
              "    </tr>\n",
              "    <tr>\n",
              "      <th>1458</th>\n",
              "      <td>9717</td>\n",
              "      <td>5</td>\n",
              "      <td>6</td>\n",
              "      <td>1078</td>\n",
              "      <td>1</td>\n",
              "      <td>0</td>\n",
              "      <td>2</td>\n",
              "      <td>5</td>\n",
              "      <td>0</td>\n",
              "      <td>240</td>\n",
              "      <td>0</td>\n",
              "    </tr>\n",
              "    <tr>\n",
              "      <th>1459</th>\n",
              "      <td>9937</td>\n",
              "      <td>5</td>\n",
              "      <td>6</td>\n",
              "      <td>1256</td>\n",
              "      <td>1</td>\n",
              "      <td>1</td>\n",
              "      <td>3</td>\n",
              "      <td>6</td>\n",
              "      <td>0</td>\n",
              "      <td>276</td>\n",
              "      <td>0</td>\n",
              "    </tr>\n",
              "  </tbody>\n",
              "</table>\n",
              "<p>1460 rows × 11 columns</p>\n",
              "</div>"
            ],
            "text/plain": [
              "      LotArea  OverallQual  ...  GarageArea  AboveMedianPrice\n",
              "0        8450            7  ...         548                 1\n",
              "1        9600            6  ...         460                 1\n",
              "2       11250            7  ...         608                 1\n",
              "3        9550            7  ...         642                 0\n",
              "4       14260            8  ...         836                 1\n",
              "...       ...          ...  ...         ...               ...\n",
              "1455     7917            6  ...         460                 1\n",
              "1456    13175            6  ...         500                 1\n",
              "1457     9042            7  ...         252                 1\n",
              "1458     9717            5  ...         240                 0\n",
              "1459     9937            5  ...         276                 0\n",
              "\n",
              "[1460 rows x 11 columns]"
            ]
          },
          "metadata": {
            "tags": []
          },
          "execution_count": 67
        }
      ]
    },
    {
      "cell_type": "markdown",
      "metadata": {
        "id": "VHHfzMcDRcbM",
        "colab_type": "text"
      },
      "source": [
        "The next step to convert the data into array that is readable for the machine to process. We need to set another variable to hold the df.values. this is done below.\n",
        "\n"
      ]
    },
    {
      "cell_type": "code",
      "metadata": {
        "id": "iG7VHexqPMYy",
        "colab_type": "code",
        "colab": {}
      },
      "source": [
        "dataset = df.values"
      ],
      "execution_count": 0,
      "outputs": []
    },
    {
      "cell_type": "markdown",
      "metadata": {
        "id": "LdqCvxOtR_yf",
        "colab_type": "text"
      },
      "source": [
        ""
      ]
    },
    {
      "cell_type": "code",
      "metadata": {
        "id": "SBD-GaWbPMcR",
        "colab_type": "code",
        "colab": {
          "base_uri": "https://localhost:8080/",
          "height": 143
        },
        "outputId": "8afa33af-495f-4f80-ca59-390f6240dc6c"
      },
      "source": [
        "dataset"
      ],
      "execution_count": 69,
      "outputs": [
        {
          "output_type": "execute_result",
          "data": {
            "text/plain": [
              "array([[ 8450,     7,     5, ...,     0,   548,     1],\n",
              "       [ 9600,     6,     8, ...,     1,   460,     1],\n",
              "       [11250,     7,     5, ...,     1,   608,     1],\n",
              "       ...,\n",
              "       [ 9042,     7,     9, ...,     2,   252,     1],\n",
              "       [ 9717,     5,     6, ...,     0,   240,     0],\n",
              "       [ 9937,     5,     6, ...,     0,   276,     0]])"
            ]
          },
          "metadata": {
            "tags": []
          },
          "execution_count": 69
        }
      ]
    },
    {
      "cell_type": "code",
      "metadata": {
        "id": "fjCz0BZbPMfM",
        "colab_type": "code",
        "colab": {}
      },
      "source": [
        ""
      ],
      "execution_count": 0,
      "outputs": []
    },
    {
      "cell_type": "markdown",
      "metadata": {
        "id": "ea89g3d8UHp8",
        "colab_type": "text"
      },
      "source": [
        "This is a regression task, so the dataset has eleven columns, we have to split the columns into ten features X and the last column is usually Y for the prediction variables. Let index tthe first ten column to be X features."
      ]
    },
    {
      "cell_type": "code",
      "metadata": {
        "id": "sXtj1ACBPMij",
        "colab_type": "code",
        "colab": {}
      },
      "source": [
        "X = dataset[:,0:10]"
      ],
      "execution_count": 0,
      "outputs": []
    },
    {
      "cell_type": "code",
      "metadata": {
        "id": "29GKNTp0VcZs",
        "colab_type": "code",
        "colab": {}
      },
      "source": [
        "Y = dataset[:,10]"
      ],
      "execution_count": 0,
      "outputs": []
    },
    {
      "cell_type": "code",
      "metadata": {
        "id": "vaEn0CTKVcd_",
        "colab_type": "code",
        "colab": {}
      },
      "source": [
        "min_max_scaler = preprocessing.MinMaxScaler()\n",
        "X_scale = min_max_scaler.fit_transform(X)"
      ],
      "execution_count": 0,
      "outputs": []
    },
    {
      "cell_type": "code",
      "metadata": {
        "id": "H_mP0ttLVcu5",
        "colab_type": "code",
        "colab": {
          "base_uri": "https://localhost:8080/",
          "height": 251
        },
        "outputId": "e06e381b-b4be-4a03-83dc-d460fdcfc428"
      },
      "source": [
        "X_scale"
      ],
      "execution_count": 73,
      "outputs": [
        {
          "output_type": "execute_result",
          "data": {
            "text/plain": [
              "array([[0.0334198 , 0.66666667, 0.5       , ..., 0.5       , 0.        ,\n",
              "        0.3864598 ],\n",
              "       [0.03879502, 0.55555556, 0.875     , ..., 0.33333333, 0.33333333,\n",
              "        0.32440056],\n",
              "       [0.04650728, 0.66666667, 0.5       , ..., 0.33333333, 0.33333333,\n",
              "        0.42877292],\n",
              "       ...,\n",
              "       [0.03618687, 0.66666667, 1.        , ..., 0.58333333, 0.66666667,\n",
              "        0.17771509],\n",
              "       [0.03934189, 0.44444444, 0.625     , ..., 0.25      , 0.        ,\n",
              "        0.16925247],\n",
              "       [0.04037019, 0.44444444, 0.625     , ..., 0.33333333, 0.        ,\n",
              "        0.19464034]])"
            ]
          },
          "metadata": {
            "tags": []
          },
          "execution_count": 73
        }
      ]
    },
    {
      "cell_type": "markdown",
      "metadata": {
        "id": "YfOKGQDeWds0",
        "colab_type": "text"
      },
      "source": [
        "**Having split the index the features X and the predictor Y from the column, also normalized the data, the next step of action is to split the dataset into train and test data.**"
      ]
    },
    {
      "cell_type": "code",
      "metadata": {
        "id": "tT6ekWxXVcuG",
        "colab_type": "code",
        "colab": {}
      },
      "source": [
        "X_train, X_val_and_test, Y_train, Y_val_and_test = train_test_split(X_scale, Y, test_size=0.3)"
      ],
      "execution_count": 0,
      "outputs": []
    },
    {
      "cell_type": "code",
      "metadata": {
        "id": "3Udwc8jJZTeG",
        "colab_type": "code",
        "colab": {}
      },
      "source": [
        "X_val, X_test, Y_val, Y_test = train_test_split(X_val_and_test, Y_val_and_test, test_size=0.5)"
      ],
      "execution_count": 0,
      "outputs": []
    },
    {
      "cell_type": "markdown",
      "metadata": {
        "id": "WSUSk5teXVya",
        "colab_type": "text"
      },
      "source": [
        "**In the above line of code we, split the data into train. validate and test data. We set 50% of the dataset to the train while 50% split between the validation and test at 25% each.**"
      ]
    },
    {
      "cell_type": "code",
      "metadata": {
        "id": "rF7EIIAKVcsL",
        "colab_type": "code",
        "colab": {
          "base_uri": "https://localhost:8080/",
          "height": 35
        },
        "outputId": "a639ca57-26df-48b7-9c87-073c5363f10c"
      },
      "source": [
        "print(X_train.shape, X_val.shape, X_test.shape, Y_train.shape, Y_val.shape, Y_test.shape)"
      ],
      "execution_count": 76,
      "outputs": [
        {
          "output_type": "stream",
          "text": [
            "(1022, 10) (219, 10) (219, 10) (1022,) (219,) (219,)\n"
          ],
          "name": "stdout"
        }
      ]
    },
    {
      "cell_type": "code",
      "metadata": {
        "id": "PJ81vUPgVcoT",
        "colab_type": "code",
        "colab": {}
      },
      "source": [
        "model = Sequential([\n",
        "    Dense(32, activation='relu', input_shape=(10,)),\n",
        "    Dense(32, activation='relu'),\n",
        "    Dense(1, activation='sigmoid'),\n",
        "])"
      ],
      "execution_count": 0,
      "outputs": []
    },
    {
      "cell_type": "code",
      "metadata": {
        "id": "3cPceAfwaJ1i",
        "colab_type": "code",
        "colab": {}
      },
      "source": [
        "model.compile(optimizer='sgd',\n",
        "              loss='binary_crossentropy',\n",
        "              metrics=['accuracy'])"
      ],
      "execution_count": 0,
      "outputs": []
    },
    {
      "cell_type": "code",
      "metadata": {
        "id": "eD-QyPsnaKBp",
        "colab_type": "code",
        "colab": {
          "base_uri": "https://localhost:8080/",
          "height": 1000
        },
        "outputId": "0d93553e-5363-45f4-f668-33ab14c6fa91"
      },
      "source": [
        "hist = model.fit(X_train, Y_train,\n",
        "          batch_size=32, epochs=100,\n",
        "          validation_data=(X_val, Y_val))"
      ],
      "execution_count": 79,
      "outputs": [
        {
          "output_type": "stream",
          "text": [
            "Train on 1022 samples, validate on 219 samples\n",
            "Epoch 1/100\n",
            "1022/1022 [==============================] - 1s 524us/step - loss: 0.6667 - acc: 0.5127 - val_loss: 0.6607 - val_acc: 0.5114\n",
            "Epoch 2/100\n",
            "1022/1022 [==============================] - 0s 50us/step - loss: 0.6571 - acc: 0.5186 - val_loss: 0.6519 - val_acc: 0.5160\n",
            "Epoch 3/100\n",
            "1022/1022 [==============================] - 0s 45us/step - loss: 0.6488 - acc: 0.5362 - val_loss: 0.6439 - val_acc: 0.5388\n",
            "Epoch 4/100\n",
            "1022/1022 [==============================] - 0s 46us/step - loss: 0.6406 - acc: 0.5773 - val_loss: 0.6360 - val_acc: 0.6256\n",
            "Epoch 5/100\n",
            "1022/1022 [==============================] - 0s 46us/step - loss: 0.6328 - acc: 0.6292 - val_loss: 0.6281 - val_acc: 0.6667\n",
            "Epoch 6/100\n",
            "1022/1022 [==============================] - 0s 50us/step - loss: 0.6249 - acc: 0.6634 - val_loss: 0.6202 - val_acc: 0.7032\n",
            "Epoch 7/100\n",
            "1022/1022 [==============================] - 0s 47us/step - loss: 0.6170 - acc: 0.7348 - val_loss: 0.6124 - val_acc: 0.7260\n",
            "Epoch 8/100\n",
            "1022/1022 [==============================] - 0s 43us/step - loss: 0.6092 - acc: 0.7436 - val_loss: 0.6044 - val_acc: 0.7397\n",
            "Epoch 9/100\n",
            "1022/1022 [==============================] - 0s 46us/step - loss: 0.6012 - acc: 0.7750 - val_loss: 0.5964 - val_acc: 0.7534\n",
            "Epoch 10/100\n",
            "1022/1022 [==============================] - 0s 46us/step - loss: 0.5929 - acc: 0.7701 - val_loss: 0.5882 - val_acc: 0.8037\n",
            "Epoch 11/100\n",
            "1022/1022 [==============================] - 0s 43us/step - loss: 0.5848 - acc: 0.8004 - val_loss: 0.5798 - val_acc: 0.8128\n",
            "Epoch 12/100\n",
            "1022/1022 [==============================] - 0s 45us/step - loss: 0.5763 - acc: 0.8102 - val_loss: 0.5713 - val_acc: 0.8265\n",
            "Epoch 13/100\n",
            "1022/1022 [==============================] - 0s 45us/step - loss: 0.5679 - acc: 0.8229 - val_loss: 0.5624 - val_acc: 0.8219\n",
            "Epoch 14/100\n",
            "1022/1022 [==============================] - 0s 45us/step - loss: 0.5592 - acc: 0.8190 - val_loss: 0.5535 - val_acc: 0.8402\n",
            "Epoch 15/100\n",
            "1022/1022 [==============================] - 0s 45us/step - loss: 0.5503 - acc: 0.8327 - val_loss: 0.5444 - val_acc: 0.8493\n",
            "Epoch 16/100\n",
            "1022/1022 [==============================] - 0s 44us/step - loss: 0.5412 - acc: 0.8307 - val_loss: 0.5352 - val_acc: 0.8539\n",
            "Epoch 17/100\n",
            "1022/1022 [==============================] - 0s 47us/step - loss: 0.5321 - acc: 0.8493 - val_loss: 0.5259 - val_acc: 0.8539\n",
            "Epoch 18/100\n",
            "1022/1022 [==============================] - 0s 44us/step - loss: 0.5231 - acc: 0.8425 - val_loss: 0.5165 - val_acc: 0.8767\n",
            "Epoch 19/100\n",
            "1022/1022 [==============================] - 0s 45us/step - loss: 0.5136 - acc: 0.8513 - val_loss: 0.5071 - val_acc: 0.8721\n",
            "Epoch 20/100\n",
            "1022/1022 [==============================] - 0s 47us/step - loss: 0.5046 - acc: 0.8513 - val_loss: 0.4976 - val_acc: 0.8721\n",
            "Epoch 21/100\n",
            "1022/1022 [==============================] - 0s 45us/step - loss: 0.4954 - acc: 0.8532 - val_loss: 0.4882 - val_acc: 0.8721\n",
            "Epoch 22/100\n",
            "1022/1022 [==============================] - 0s 42us/step - loss: 0.4861 - acc: 0.8611 - val_loss: 0.4791 - val_acc: 0.8721\n",
            "Epoch 23/100\n",
            "1022/1022 [==============================] - 0s 49us/step - loss: 0.4773 - acc: 0.8601 - val_loss: 0.4698 - val_acc: 0.8721\n",
            "Epoch 24/100\n",
            "1022/1022 [==============================] - 0s 46us/step - loss: 0.4685 - acc: 0.8650 - val_loss: 0.4610 - val_acc: 0.8721\n",
            "Epoch 25/100\n",
            "1022/1022 [==============================] - 0s 53us/step - loss: 0.4600 - acc: 0.8601 - val_loss: 0.4526 - val_acc: 0.8767\n",
            "Epoch 26/100\n",
            "1022/1022 [==============================] - 0s 46us/step - loss: 0.4518 - acc: 0.8620 - val_loss: 0.4439 - val_acc: 0.8721\n",
            "Epoch 27/100\n",
            "1022/1022 [==============================] - 0s 44us/step - loss: 0.4437 - acc: 0.8640 - val_loss: 0.4355 - val_acc: 0.8721\n",
            "Epoch 28/100\n",
            "1022/1022 [==============================] - 0s 47us/step - loss: 0.4358 - acc: 0.8611 - val_loss: 0.4278 - val_acc: 0.8813\n",
            "Epoch 29/100\n",
            "1022/1022 [==============================] - 0s 47us/step - loss: 0.4283 - acc: 0.8630 - val_loss: 0.4200 - val_acc: 0.8767\n",
            "Epoch 30/100\n",
            "1022/1022 [==============================] - 0s 72us/step - loss: 0.4211 - acc: 0.8601 - val_loss: 0.4126 - val_acc: 0.8767\n",
            "Epoch 31/100\n",
            "1022/1022 [==============================] - 0s 48us/step - loss: 0.4141 - acc: 0.8630 - val_loss: 0.4057 - val_acc: 0.8767\n",
            "Epoch 32/100\n",
            "1022/1022 [==============================] - 0s 47us/step - loss: 0.4072 - acc: 0.8640 - val_loss: 0.3991 - val_acc: 0.8813\n",
            "Epoch 33/100\n",
            "1022/1022 [==============================] - 0s 44us/step - loss: 0.4011 - acc: 0.8679 - val_loss: 0.3926 - val_acc: 0.8767\n",
            "Epoch 34/100\n",
            "1022/1022 [==============================] - 0s 45us/step - loss: 0.3943 - acc: 0.8669 - val_loss: 0.3867 - val_acc: 0.8813\n",
            "Epoch 35/100\n",
            "1022/1022 [==============================] - 0s 44us/step - loss: 0.3887 - acc: 0.8659 - val_loss: 0.3807 - val_acc: 0.8767\n",
            "Epoch 36/100\n",
            "1022/1022 [==============================] - 0s 48us/step - loss: 0.3835 - acc: 0.8659 - val_loss: 0.3752 - val_acc: 0.8767\n",
            "Epoch 37/100\n",
            "1022/1022 [==============================] - 0s 45us/step - loss: 0.3781 - acc: 0.8630 - val_loss: 0.3700 - val_acc: 0.8813\n",
            "Epoch 38/100\n",
            "1022/1022 [==============================] - 0s 43us/step - loss: 0.3732 - acc: 0.8640 - val_loss: 0.3655 - val_acc: 0.8858\n",
            "Epoch 39/100\n",
            "1022/1022 [==============================] - 0s 43us/step - loss: 0.3690 - acc: 0.8669 - val_loss: 0.3605 - val_acc: 0.8767\n",
            "Epoch 40/100\n",
            "1022/1022 [==============================] - 0s 47us/step - loss: 0.3642 - acc: 0.8679 - val_loss: 0.3561 - val_acc: 0.8767\n",
            "Epoch 41/100\n",
            "1022/1022 [==============================] - 0s 46us/step - loss: 0.3601 - acc: 0.8669 - val_loss: 0.3521 - val_acc: 0.8813\n",
            "Epoch 42/100\n",
            "1022/1022 [==============================] - 0s 43us/step - loss: 0.3561 - acc: 0.8718 - val_loss: 0.3482 - val_acc: 0.8767\n",
            "Epoch 43/100\n",
            "1022/1022 [==============================] - 0s 43us/step - loss: 0.3522 - acc: 0.8669 - val_loss: 0.3446 - val_acc: 0.8767\n",
            "Epoch 44/100\n",
            "1022/1022 [==============================] - 0s 44us/step - loss: 0.3488 - acc: 0.8659 - val_loss: 0.3412 - val_acc: 0.8904\n",
            "Epoch 45/100\n",
            "1022/1022 [==============================] - 0s 51us/step - loss: 0.3458 - acc: 0.8699 - val_loss: 0.3380 - val_acc: 0.8904\n",
            "Epoch 46/100\n",
            "1022/1022 [==============================] - 0s 46us/step - loss: 0.3432 - acc: 0.8728 - val_loss: 0.3350 - val_acc: 0.8904\n",
            "Epoch 47/100\n",
            "1022/1022 [==============================] - 0s 46us/step - loss: 0.3397 - acc: 0.8708 - val_loss: 0.3326 - val_acc: 0.8858\n",
            "Epoch 48/100\n",
            "1022/1022 [==============================] - 0s 48us/step - loss: 0.3375 - acc: 0.8689 - val_loss: 0.3292 - val_acc: 0.8904\n",
            "Epoch 49/100\n",
            "1022/1022 [==============================] - 0s 47us/step - loss: 0.3345 - acc: 0.8669 - val_loss: 0.3271 - val_acc: 0.8858\n",
            "Epoch 50/100\n",
            "1022/1022 [==============================] - 0s 47us/step - loss: 0.3322 - acc: 0.8728 - val_loss: 0.3242 - val_acc: 0.8904\n",
            "Epoch 51/100\n",
            "1022/1022 [==============================] - 0s 49us/step - loss: 0.3295 - acc: 0.8689 - val_loss: 0.3223 - val_acc: 0.8858\n",
            "Epoch 52/100\n",
            "1022/1022 [==============================] - 0s 49us/step - loss: 0.3273 - acc: 0.8748 - val_loss: 0.3199 - val_acc: 0.8904\n",
            "Epoch 53/100\n",
            "1022/1022 [==============================] - 0s 48us/step - loss: 0.3254 - acc: 0.8679 - val_loss: 0.3178 - val_acc: 0.8858\n",
            "Epoch 54/100\n",
            "1022/1022 [==============================] - 0s 49us/step - loss: 0.3239 - acc: 0.8738 - val_loss: 0.3157 - val_acc: 0.8858\n",
            "Epoch 55/100\n",
            "1022/1022 [==============================] - 0s 45us/step - loss: 0.3218 - acc: 0.8748 - val_loss: 0.3140 - val_acc: 0.8858\n",
            "Epoch 56/100\n",
            "1022/1022 [==============================] - 0s 47us/step - loss: 0.3204 - acc: 0.8728 - val_loss: 0.3121 - val_acc: 0.8858\n",
            "Epoch 57/100\n",
            "1022/1022 [==============================] - 0s 47us/step - loss: 0.3183 - acc: 0.8738 - val_loss: 0.3107 - val_acc: 0.8858\n",
            "Epoch 58/100\n",
            "1022/1022 [==============================] - 0s 45us/step - loss: 0.3166 - acc: 0.8718 - val_loss: 0.3092 - val_acc: 0.8904\n",
            "Epoch 59/100\n",
            "1022/1022 [==============================] - 0s 50us/step - loss: 0.3154 - acc: 0.8767 - val_loss: 0.3075 - val_acc: 0.8904\n",
            "Epoch 60/100\n",
            "1022/1022 [==============================] - 0s 46us/step - loss: 0.3144 - acc: 0.8718 - val_loss: 0.3058 - val_acc: 0.8858\n",
            "Epoch 61/100\n",
            "1022/1022 [==============================] - 0s 54us/step - loss: 0.3139 - acc: 0.8777 - val_loss: 0.3044 - val_acc: 0.8858\n",
            "Epoch 62/100\n",
            "1022/1022 [==============================] - 0s 46us/step - loss: 0.3115 - acc: 0.8718 - val_loss: 0.3034 - val_acc: 0.8904\n",
            "Epoch 63/100\n",
            "1022/1022 [==============================] - 0s 46us/step - loss: 0.3109 - acc: 0.8757 - val_loss: 0.3024 - val_acc: 0.8950\n",
            "Epoch 64/100\n",
            "1022/1022 [==============================] - 0s 46us/step - loss: 0.3078 - acc: 0.8796 - val_loss: 0.3019 - val_acc: 0.8858\n",
            "Epoch 65/100\n",
            "1022/1022 [==============================] - 0s 47us/step - loss: 0.3082 - acc: 0.8787 - val_loss: 0.2996 - val_acc: 0.8904\n",
            "Epoch 66/100\n",
            "1022/1022 [==============================] - 0s 47us/step - loss: 0.3066 - acc: 0.8738 - val_loss: 0.3004 - val_acc: 0.8904\n",
            "Epoch 67/100\n",
            "1022/1022 [==============================] - 0s 50us/step - loss: 0.3065 - acc: 0.8787 - val_loss: 0.2973 - val_acc: 0.8904\n",
            "Epoch 68/100\n",
            "1022/1022 [==============================] - 0s 44us/step - loss: 0.3055 - acc: 0.8728 - val_loss: 0.2962 - val_acc: 0.8904\n",
            "Epoch 69/100\n",
            "1022/1022 [==============================] - 0s 53us/step - loss: 0.3045 - acc: 0.8757 - val_loss: 0.2954 - val_acc: 0.8950\n",
            "Epoch 70/100\n",
            "1022/1022 [==============================] - 0s 49us/step - loss: 0.3038 - acc: 0.8748 - val_loss: 0.2940 - val_acc: 0.8950\n",
            "Epoch 71/100\n",
            "1022/1022 [==============================] - 0s 47us/step - loss: 0.3027 - acc: 0.8767 - val_loss: 0.2931 - val_acc: 0.8904\n",
            "Epoch 72/100\n",
            "1022/1022 [==============================] - 0s 51us/step - loss: 0.3014 - acc: 0.8796 - val_loss: 0.2922 - val_acc: 0.8904\n",
            "Epoch 73/100\n",
            "1022/1022 [==============================] - 0s 47us/step - loss: 0.3016 - acc: 0.8787 - val_loss: 0.2912 - val_acc: 0.8950\n",
            "Epoch 74/100\n",
            "1022/1022 [==============================] - 0s 46us/step - loss: 0.3005 - acc: 0.8767 - val_loss: 0.2907 - val_acc: 0.8950\n",
            "Epoch 75/100\n",
            "1022/1022 [==============================] - 0s 45us/step - loss: 0.2996 - acc: 0.8796 - val_loss: 0.2894 - val_acc: 0.8950\n",
            "Epoch 76/100\n",
            "1022/1022 [==============================] - 0s 49us/step - loss: 0.2982 - acc: 0.8767 - val_loss: 0.2888 - val_acc: 0.8950\n",
            "Epoch 77/100\n",
            "1022/1022 [==============================] - 0s 44us/step - loss: 0.2978 - acc: 0.8796 - val_loss: 0.2877 - val_acc: 0.8950\n",
            "Epoch 78/100\n",
            "1022/1022 [==============================] - 0s 51us/step - loss: 0.2977 - acc: 0.8728 - val_loss: 0.2869 - val_acc: 0.8950\n",
            "Epoch 79/100\n",
            "1022/1022 [==============================] - 0s 53us/step - loss: 0.2971 - acc: 0.8748 - val_loss: 0.2864 - val_acc: 0.8995\n",
            "Epoch 80/100\n",
            "1022/1022 [==============================] - 0s 44us/step - loss: 0.2958 - acc: 0.8787 - val_loss: 0.2853 - val_acc: 0.8950\n",
            "Epoch 81/100\n",
            "1022/1022 [==============================] - 0s 46us/step - loss: 0.2949 - acc: 0.8806 - val_loss: 0.2852 - val_acc: 0.8950\n",
            "Epoch 82/100\n",
            "1022/1022 [==============================] - 0s 46us/step - loss: 0.2949 - acc: 0.8836 - val_loss: 0.2837 - val_acc: 0.8950\n",
            "Epoch 83/100\n",
            "1022/1022 [==============================] - 0s 49us/step - loss: 0.2946 - acc: 0.8796 - val_loss: 0.2830 - val_acc: 0.8995\n",
            "Epoch 84/100\n",
            "1022/1022 [==============================] - 0s 46us/step - loss: 0.2943 - acc: 0.8787 - val_loss: 0.2823 - val_acc: 0.8950\n",
            "Epoch 85/100\n",
            "1022/1022 [==============================] - 0s 52us/step - loss: 0.2928 - acc: 0.8787 - val_loss: 0.2818 - val_acc: 0.9041\n",
            "Epoch 86/100\n",
            "1022/1022 [==============================] - 0s 44us/step - loss: 0.2925 - acc: 0.8806 - val_loss: 0.2818 - val_acc: 0.8858\n",
            "Epoch 87/100\n",
            "1022/1022 [==============================] - 0s 46us/step - loss: 0.2915 - acc: 0.8767 - val_loss: 0.2813 - val_acc: 0.8858\n",
            "Epoch 88/100\n",
            "1022/1022 [==============================] - 0s 47us/step - loss: 0.2907 - acc: 0.8806 - val_loss: 0.2803 - val_acc: 0.9041\n",
            "Epoch 89/100\n",
            "1022/1022 [==============================] - 0s 46us/step - loss: 0.2911 - acc: 0.8806 - val_loss: 0.2791 - val_acc: 0.9041\n",
            "Epoch 90/100\n",
            "1022/1022 [==============================] - 0s 47us/step - loss: 0.2895 - acc: 0.8836 - val_loss: 0.2798 - val_acc: 0.8858\n",
            "Epoch 91/100\n",
            "1022/1022 [==============================] - 0s 50us/step - loss: 0.2911 - acc: 0.8777 - val_loss: 0.2776 - val_acc: 0.8995\n",
            "Epoch 92/100\n",
            "1022/1022 [==============================] - 0s 47us/step - loss: 0.2904 - acc: 0.8816 - val_loss: 0.2772 - val_acc: 0.9041\n",
            "Epoch 93/100\n",
            "1022/1022 [==============================] - 0s 46us/step - loss: 0.2896 - acc: 0.8777 - val_loss: 0.2766 - val_acc: 0.9041\n",
            "Epoch 94/100\n",
            "1022/1022 [==============================] - 0s 52us/step - loss: 0.2884 - acc: 0.8806 - val_loss: 0.2759 - val_acc: 0.8995\n",
            "Epoch 95/100\n",
            "1022/1022 [==============================] - 0s 44us/step - loss: 0.2886 - acc: 0.8787 - val_loss: 0.2752 - val_acc: 0.8995\n",
            "Epoch 96/100\n",
            "1022/1022 [==============================] - 0s 51us/step - loss: 0.2881 - acc: 0.8787 - val_loss: 0.2748 - val_acc: 0.9041\n",
            "Epoch 97/100\n",
            "1022/1022 [==============================] - 0s 50us/step - loss: 0.2873 - acc: 0.8806 - val_loss: 0.2743 - val_acc: 0.8950\n",
            "Epoch 98/100\n",
            "1022/1022 [==============================] - 0s 47us/step - loss: 0.2870 - acc: 0.8826 - val_loss: 0.2736 - val_acc: 0.9041\n",
            "Epoch 99/100\n",
            "1022/1022 [==============================] - 0s 45us/step - loss: 0.2862 - acc: 0.8787 - val_loss: 0.2742 - val_acc: 0.9041\n",
            "Epoch 100/100\n",
            "1022/1022 [==============================] - 0s 48us/step - loss: 0.2857 - acc: 0.8826 - val_loss: 0.2726 - val_acc: 0.9087\n"
          ],
          "name": "stdout"
        }
      ]
    },
    {
      "cell_type": "code",
      "metadata": {
        "id": "emrpfEohaJ0R",
        "colab_type": "code",
        "colab": {
          "base_uri": "https://localhost:8080/",
          "height": 53
        },
        "outputId": "c2e1f7e8-930d-4140-de13-c41e9c192c37"
      },
      "source": [
        "model.evaluate(X_test, Y_test)[1]"
      ],
      "execution_count": 80,
      "outputs": [
        {
          "output_type": "stream",
          "text": [
            "219/219 [==============================] - 0s 72us/step\n"
          ],
          "name": "stdout"
        },
        {
          "output_type": "execute_result",
          "data": {
            "text/plain": [
              "0.9132420126705953"
            ]
          },
          "metadata": {
            "tags": []
          },
          "execution_count": 80
        }
      ]
    },
    {
      "cell_type": "code",
      "metadata": {
        "id": "qJfR0i3taJvx",
        "colab_type": "code",
        "colab": {
          "base_uri": "https://localhost:8080/",
          "height": 295
        },
        "outputId": "929523be-d8ff-4801-b042-18257c1f4eae"
      },
      "source": [
        "plt.plot(hist.history['loss'])\n",
        "plt.plot(hist.history['val_loss'])\n",
        "plt.title('Model loss')\n",
        "plt.ylabel('Loss')\n",
        "plt.xlabel('Epoch')\n",
        "plt.legend(['Train', 'Val'], loc='upper right')\n",
        "plt.show()"
      ],
      "execution_count": 81,
      "outputs": [
        {
          "output_type": "display_data",
          "data": {
            "image/png": "[encoded data removed]",
            "text/plain": [
              "<Figure size 432x288 with 1 Axes>"
            ]
          },
          "metadata": {
            "tags": []
          }
        }
      ]
    },
    {
      "cell_type": "code",
      "metadata": {
        "id": "7Epfw6tpVckw",
        "colab_type": "code",
        "colab": {
          "base_uri": "https://localhost:8080/",
          "height": 295
        },
        "outputId": "8b45febb-b418-4fb0-9b3d-6d66b88511e1"
      },
      "source": [
        "plt.plot(hist.history['acc'])\n",
        "plt.plot(hist.history['val_acc'])\n",
        "plt.title('Model accuracy')\n",
        "plt.ylabel('Accuracy')\n",
        "plt.xlabel('Epoch')\n",
        "plt.legend(['Train', 'Val'], loc='lower right')\n",
        "plt.show()"
      ],
      "execution_count": 82,
      "outputs": [
        {
          "output_type": "display_data",
          "data": {
            "image/png": "[encoded data removed]",
            "text/plain": [
              "<Figure size 432x288 with 1 Axes>"
            ]
          },
          "metadata": {
            "tags": []
          }
        }
      ]
    },
    {
      "cell_type": "markdown",
      "metadata": {
        "id": "gcDaVInjksPM",
        "colab_type": "text"
      },
      "source": [
        "**To explore the essence of regularisation in neural network, let’s formulate with a neural network that will badly overfit on our training set**"
      ]
    },
    {
      "cell_type": "code",
      "metadata": {
        "id": "DoreEFd5caYS",
        "colab_type": "code",
        "colab": {
          "base_uri": "https://localhost:8080/",
          "height": 1000
        },
        "outputId": "8bfcfb10-5888-4538-858b-4f300a4d3dad"
      },
      "source": [
        "model_2 = Sequential([\n",
        "    Dense(1000, activation='relu', input_shape=(10,)),\n",
        "    Dense(1000, activation='relu'),\n",
        "    Dense(1000, activation='relu'),\n",
        "    Dense(1000, activation='relu'),\n",
        "    Dense(1, activation='sigmoid'),\n",
        "])\n",
        "\n",
        "model_2.compile(optimizer='adam',\n",
        "              loss='binary_crossentropy',\n",
        "              metrics=['accuracy'])\n",
        "\n",
        "hist_2 = model_2.fit(X_train, Y_train,\n",
        "          batch_size=32, epochs=100,\n",
        "          validation_data=(X_val, Y_val))"
      ],
      "execution_count": 83,
      "outputs": [
        {
          "output_type": "stream",
          "text": [
            "Train on 1022 samples, validate on 219 samples\n",
            "Epoch 1/100\n",
            "1022/1022 [==============================] - 3s 3ms/step - loss: 0.4476 - acc: 0.8033 - val_loss: 0.3026 - val_acc: 0.8813\n",
            "Epoch 2/100\n",
            "1022/1022 [==============================] - 2s 2ms/step - loss: 0.3528 - acc: 0.8542 - val_loss: 0.3190 - val_acc: 0.8539\n",
            "Epoch 3/100\n",
            "1022/1022 [==============================] - 2s 2ms/step - loss: 0.3343 - acc: 0.8728 - val_loss: 0.2355 - val_acc: 0.9178\n",
            "Epoch 4/100\n",
            "1022/1022 [==============================] - 2s 2ms/step - loss: 0.2994 - acc: 0.8806 - val_loss: 0.3065 - val_acc: 0.8676\n",
            "Epoch 5/100\n",
            "1022/1022 [==============================] - 2s 2ms/step - loss: 0.2865 - acc: 0.8845 - val_loss: 0.2597 - val_acc: 0.9132\n",
            "Epoch 6/100\n",
            "1022/1022 [==============================] - 2s 2ms/step - loss: 0.2746 - acc: 0.8836 - val_loss: 0.2581 - val_acc: 0.8995\n",
            "Epoch 7/100\n",
            "1022/1022 [==============================] - 2s 2ms/step - loss: 0.2724 - acc: 0.8855 - val_loss: 0.2122 - val_acc: 0.9406\n",
            "Epoch 8/100\n",
            "1022/1022 [==============================] - 2s 2ms/step - loss: 0.2677 - acc: 0.8865 - val_loss: 0.2393 - val_acc: 0.9041\n",
            "Epoch 9/100\n",
            "1022/1022 [==============================] - 2s 2ms/step - loss: 0.2600 - acc: 0.8885 - val_loss: 0.2290 - val_acc: 0.9224\n",
            "Epoch 10/100\n",
            "1022/1022 [==============================] - 2s 2ms/step - loss: 0.2516 - acc: 0.8982 - val_loss: 0.2123 - val_acc: 0.9269\n",
            "Epoch 11/100\n",
            "1022/1022 [==============================] - 2s 2ms/step - loss: 0.2766 - acc: 0.8885 - val_loss: 0.2013 - val_acc: 0.9452\n",
            "Epoch 12/100\n",
            "1022/1022 [==============================] - 2s 2ms/step - loss: 0.2746 - acc: 0.8894 - val_loss: 0.2395 - val_acc: 0.9132\n",
            "Epoch 13/100\n",
            "1022/1022 [==============================] - 2s 2ms/step - loss: 0.2381 - acc: 0.8982 - val_loss: 0.2334 - val_acc: 0.9041\n",
            "Epoch 14/100\n",
            "1022/1022 [==============================] - 2s 2ms/step - loss: 0.2789 - acc: 0.8816 - val_loss: 0.2917 - val_acc: 0.9132\n",
            "Epoch 15/100\n",
            "1022/1022 [==============================] - 2s 2ms/step - loss: 0.2335 - acc: 0.9012 - val_loss: 0.2359 - val_acc: 0.9087\n",
            "Epoch 16/100\n",
            "1022/1022 [==============================] - 2s 2ms/step - loss: 0.2430 - acc: 0.9031 - val_loss: 0.2751 - val_acc: 0.8904\n",
            "Epoch 17/100\n",
            "1022/1022 [==============================] - 2s 2ms/step - loss: 0.2381 - acc: 0.8982 - val_loss: 0.2269 - val_acc: 0.9315\n",
            "Epoch 18/100\n",
            "1022/1022 [==============================] - 2s 2ms/step - loss: 0.2118 - acc: 0.8963 - val_loss: 0.3123 - val_acc: 0.8813\n",
            "Epoch 19/100\n",
            "1022/1022 [==============================] - 2s 2ms/step - loss: 0.2236 - acc: 0.8943 - val_loss: 0.2550 - val_acc: 0.9269\n",
            "Epoch 20/100\n",
            "1022/1022 [==============================] - 2s 2ms/step - loss: 0.2029 - acc: 0.9070 - val_loss: 0.2517 - val_acc: 0.8995\n",
            "Epoch 21/100\n",
            "1022/1022 [==============================] - 2s 2ms/step - loss: 0.2223 - acc: 0.9031 - val_loss: 0.2432 - val_acc: 0.8995\n",
            "Epoch 22/100\n",
            "1022/1022 [==============================] - 2s 2ms/step - loss: 0.2153 - acc: 0.9031 - val_loss: 0.3097 - val_acc: 0.9041\n",
            "Epoch 23/100\n",
            "1022/1022 [==============================] - 2s 2ms/step - loss: 0.2140 - acc: 0.9022 - val_loss: 0.2754 - val_acc: 0.8858\n",
            "Epoch 24/100\n",
            "1022/1022 [==============================] - 2s 2ms/step - loss: 0.1901 - acc: 0.9149 - val_loss: 0.2436 - val_acc: 0.9178\n",
            "Epoch 25/100\n",
            "1022/1022 [==============================] - 2s 2ms/step - loss: 0.2117 - acc: 0.8953 - val_loss: 0.2703 - val_acc: 0.8995\n",
            "Epoch 26/100\n",
            "1022/1022 [==============================] - 2s 2ms/step - loss: 0.1967 - acc: 0.9090 - val_loss: 0.2739 - val_acc: 0.9041\n",
            "Epoch 27/100\n",
            "1022/1022 [==============================] - 2s 2ms/step - loss: 0.2267 - acc: 0.9070 - val_loss: 0.2603 - val_acc: 0.9132\n",
            "Epoch 28/100\n",
            "1022/1022 [==============================] - 2s 2ms/step - loss: 0.1997 - acc: 0.9070 - val_loss: 0.2409 - val_acc: 0.9132\n",
            "Epoch 29/100\n",
            "1022/1022 [==============================] - 2s 2ms/step - loss: 0.1941 - acc: 0.9139 - val_loss: 0.2293 - val_acc: 0.9315\n",
            "Epoch 30/100\n",
            "1022/1022 [==============================] - 2s 2ms/step - loss: 0.1941 - acc: 0.9139 - val_loss: 0.3241 - val_acc: 0.8721\n",
            "Epoch 31/100\n",
            "1022/1022 [==============================] - 2s 2ms/step - loss: 0.2256 - acc: 0.9031 - val_loss: 0.2917 - val_acc: 0.9041\n",
            "Epoch 32/100\n",
            "1022/1022 [==============================] - 2s 2ms/step - loss: 0.2084 - acc: 0.9119 - val_loss: 0.2399 - val_acc: 0.9178\n",
            "Epoch 33/100\n",
            "1022/1022 [==============================] - 2s 2ms/step - loss: 0.1835 - acc: 0.9188 - val_loss: 0.2988 - val_acc: 0.8995\n",
            "Epoch 34/100\n",
            "1022/1022 [==============================] - 2s 2ms/step - loss: 0.1803 - acc: 0.9178 - val_loss: 0.2332 - val_acc: 0.9315\n",
            "Epoch 35/100\n",
            "1022/1022 [==============================] - 2s 2ms/step - loss: 0.1865 - acc: 0.9266 - val_loss: 0.2880 - val_acc: 0.9041\n",
            "Epoch 36/100\n",
            "1022/1022 [==============================] - 2s 2ms/step - loss: 0.1743 - acc: 0.9178 - val_loss: 0.2501 - val_acc: 0.9041\n",
            "Epoch 37/100\n",
            "1022/1022 [==============================] - 2s 2ms/step - loss: 0.1911 - acc: 0.9139 - val_loss: 0.2795 - val_acc: 0.8904\n",
            "Epoch 38/100\n",
            "1022/1022 [==============================] - 2s 2ms/step - loss: 0.2312 - acc: 0.9031 - val_loss: 0.2532 - val_acc: 0.8995\n",
            "Epoch 39/100\n",
            "1022/1022 [==============================] - 2s 2ms/step - loss: 0.1907 - acc: 0.9149 - val_loss: 0.2662 - val_acc: 0.8995\n",
            "Epoch 40/100\n",
            "1022/1022 [==============================] - 2s 2ms/step - loss: 0.1833 - acc: 0.9188 - val_loss: 0.2817 - val_acc: 0.8767\n",
            "Epoch 41/100\n",
            "1022/1022 [==============================] - 2s 2ms/step - loss: 0.1912 - acc: 0.9129 - val_loss: 0.2464 - val_acc: 0.9087\n",
            "Epoch 42/100\n",
            "1022/1022 [==============================] - 2s 2ms/step - loss: 0.1710 - acc: 0.9198 - val_loss: 0.2879 - val_acc: 0.9224\n",
            "Epoch 43/100\n",
            "1022/1022 [==============================] - 2s 2ms/step - loss: 0.1806 - acc: 0.9315 - val_loss: 0.3089 - val_acc: 0.9224\n",
            "Epoch 44/100\n",
            "1022/1022 [==============================] - 2s 2ms/step - loss: 0.1904 - acc: 0.9139 - val_loss: 0.2409 - val_acc: 0.9224\n",
            "Epoch 45/100\n",
            "1022/1022 [==============================] - 2s 2ms/step - loss: 0.1698 - acc: 0.9354 - val_loss: 0.2644 - val_acc: 0.9041\n",
            "Epoch 46/100\n",
            "1022/1022 [==============================] - 2s 2ms/step - loss: 0.1716 - acc: 0.9237 - val_loss: 0.3053 - val_acc: 0.8858\n",
            "Epoch 47/100\n",
            "1022/1022 [==============================] - 2s 2ms/step - loss: 0.1648 - acc: 0.9237 - val_loss: 0.2534 - val_acc: 0.9178\n",
            "Epoch 48/100\n",
            "1022/1022 [==============================] - 2s 2ms/step - loss: 0.1695 - acc: 0.9247 - val_loss: 0.3143 - val_acc: 0.9132\n",
            "Epoch 49/100\n",
            "1022/1022 [==============================] - 2s 2ms/step - loss: 0.1562 - acc: 0.9325 - val_loss: 0.3311 - val_acc: 0.9178\n",
            "Epoch 50/100\n",
            "1022/1022 [==============================] - 2s 2ms/step - loss: 0.1677 - acc: 0.9276 - val_loss: 0.2839 - val_acc: 0.9087\n",
            "Epoch 51/100\n",
            "1022/1022 [==============================] - 2s 2ms/step - loss: 0.1635 - acc: 0.9286 - val_loss: 0.2490 - val_acc: 0.9224\n",
            "Epoch 52/100\n",
            "1022/1022 [==============================] - 2s 2ms/step - loss: 0.1601 - acc: 0.9403 - val_loss: 0.3390 - val_acc: 0.8858\n",
            "Epoch 53/100\n",
            "1022/1022 [==============================] - 2s 2ms/step - loss: 0.1767 - acc: 0.9217 - val_loss: 0.2900 - val_acc: 0.9041\n",
            "Epoch 54/100\n",
            "1022/1022 [==============================] - 2s 2ms/step - loss: 0.1774 - acc: 0.9227 - val_loss: 0.2690 - val_acc: 0.9041\n",
            "Epoch 55/100\n",
            "1022/1022 [==============================] - 2s 2ms/step - loss: 0.1611 - acc: 0.9305 - val_loss: 0.2676 - val_acc: 0.9041\n",
            "Epoch 56/100\n",
            "1022/1022 [==============================] - 2s 2ms/step - loss: 0.1627 - acc: 0.9286 - val_loss: 0.2954 - val_acc: 0.8858\n",
            "Epoch 57/100\n",
            "1022/1022 [==============================] - 2s 2ms/step - loss: 0.1592 - acc: 0.9384 - val_loss: 0.3352 - val_acc: 0.8904\n",
            "Epoch 58/100\n",
            "1022/1022 [==============================] - 2s 2ms/step - loss: 0.1679 - acc: 0.9295 - val_loss: 0.2700 - val_acc: 0.9041\n",
            "Epoch 59/100\n",
            "1022/1022 [==============================] - 2s 2ms/step - loss: 0.1563 - acc: 0.9344 - val_loss: 0.3185 - val_acc: 0.8995\n",
            "Epoch 60/100\n",
            "1022/1022 [==============================] - 2s 2ms/step - loss: 0.1438 - acc: 0.9403 - val_loss: 0.2824 - val_acc: 0.9041\n",
            "Epoch 61/100\n",
            "1022/1022 [==============================] - 2s 2ms/step - loss: 0.1590 - acc: 0.9276 - val_loss: 0.4415 - val_acc: 0.8630\n",
            "Epoch 62/100\n",
            "1022/1022 [==============================] - 2s 2ms/step - loss: 0.1583 - acc: 0.9276 - val_loss: 0.2877 - val_acc: 0.9132\n",
            "Epoch 63/100\n",
            "1022/1022 [==============================] - 2s 2ms/step - loss: 0.1548 - acc: 0.9403 - val_loss: 0.3257 - val_acc: 0.9224\n",
            "Epoch 64/100\n",
            "1022/1022 [==============================] - 2s 2ms/step - loss: 0.1363 - acc: 0.9325 - val_loss: 0.3460 - val_acc: 0.9087\n",
            "Epoch 65/100\n",
            "1022/1022 [==============================] - 2s 2ms/step - loss: 0.1287 - acc: 0.9403 - val_loss: 0.3686 - val_acc: 0.9041\n",
            "Epoch 66/100\n",
            "1022/1022 [==============================] - 2s 2ms/step - loss: 0.1804 - acc: 0.9207 - val_loss: 0.3506 - val_acc: 0.9132\n",
            "Epoch 67/100\n",
            "1022/1022 [==============================] - 2s 2ms/step - loss: 0.1390 - acc: 0.9403 - val_loss: 0.3368 - val_acc: 0.8767\n",
            "Epoch 68/100\n",
            "1022/1022 [==============================] - 2s 2ms/step - loss: 0.1389 - acc: 0.9384 - val_loss: 0.3735 - val_acc: 0.9041\n",
            "Epoch 69/100\n",
            "1022/1022 [==============================] - 2s 2ms/step - loss: 0.1346 - acc: 0.9432 - val_loss: 0.4271 - val_acc: 0.8904\n",
            "Epoch 70/100\n",
            "1022/1022 [==============================] - 2s 2ms/step - loss: 0.1608 - acc: 0.9276 - val_loss: 0.2935 - val_acc: 0.9041\n",
            "Epoch 71/100\n",
            "1022/1022 [==============================] - 2s 2ms/step - loss: 0.1386 - acc: 0.9384 - val_loss: 0.3438 - val_acc: 0.9041\n",
            "Epoch 72/100\n",
            "1022/1022 [==============================] - 2s 2ms/step - loss: 0.1199 - acc: 0.9481 - val_loss: 0.4773 - val_acc: 0.8995\n",
            "Epoch 73/100\n",
            "1022/1022 [==============================] - 2s 2ms/step - loss: 0.1457 - acc: 0.9413 - val_loss: 0.3600 - val_acc: 0.8995\n",
            "Epoch 74/100\n",
            "1022/1022 [==============================] - 2s 2ms/step - loss: 0.1694 - acc: 0.9227 - val_loss: 0.4192 - val_acc: 0.8950\n",
            "Epoch 75/100\n",
            "1022/1022 [==============================] - 2s 2ms/step - loss: 0.1550 - acc: 0.9286 - val_loss: 0.2966 - val_acc: 0.8813\n",
            "Epoch 76/100\n",
            "1022/1022 [==============================] - 2s 2ms/step - loss: 0.1349 - acc: 0.9481 - val_loss: 0.3209 - val_acc: 0.9087\n",
            "Epoch 77/100\n",
            "1022/1022 [==============================] - 2s 2ms/step - loss: 0.1482 - acc: 0.9286 - val_loss: 0.4800 - val_acc: 0.8539\n",
            "Epoch 78/100\n",
            "1022/1022 [==============================] - 2s 2ms/step - loss: 0.1480 - acc: 0.9413 - val_loss: 0.3188 - val_acc: 0.8904\n",
            "Epoch 79/100\n",
            "1022/1022 [==============================] - 2s 2ms/step - loss: 0.1375 - acc: 0.9452 - val_loss: 0.4020 - val_acc: 0.9224\n",
            "Epoch 80/100\n",
            "1022/1022 [==============================] - 2s 2ms/step - loss: 0.1271 - acc: 0.9374 - val_loss: 0.4841 - val_acc: 0.8950\n",
            "Epoch 81/100\n",
            "1022/1022 [==============================] - 2s 2ms/step - loss: 0.1379 - acc: 0.9374 - val_loss: 0.3322 - val_acc: 0.8995\n",
            "Epoch 82/100\n",
            "1022/1022 [==============================] - 2s 2ms/step - loss: 0.1561 - acc: 0.9393 - val_loss: 0.4166 - val_acc: 0.8767\n",
            "Epoch 83/100\n",
            "1022/1022 [==============================] - 2s 2ms/step - loss: 0.1440 - acc: 0.9344 - val_loss: 0.4651 - val_acc: 0.8767\n",
            "Epoch 84/100\n",
            "1022/1022 [==============================] - 2s 2ms/step - loss: 0.1333 - acc: 0.9462 - val_loss: 0.5014 - val_acc: 0.9041\n",
            "Epoch 85/100\n",
            "1022/1022 [==============================] - 2s 2ms/step - loss: 0.1594 - acc: 0.9315 - val_loss: 0.4108 - val_acc: 0.9041\n",
            "Epoch 86/100\n",
            "1022/1022 [==============================] - 2s 2ms/step - loss: 0.1642 - acc: 0.9315 - val_loss: 0.3582 - val_acc: 0.9132\n",
            "Epoch 87/100\n",
            "1022/1022 [==============================] - 2s 2ms/step - loss: 0.1215 - acc: 0.9530 - val_loss: 0.5235 - val_acc: 0.8767\n",
            "Epoch 88/100\n",
            "1022/1022 [==============================] - 2s 2ms/step - loss: 0.1151 - acc: 0.9521 - val_loss: 0.5521 - val_acc: 0.8858\n",
            "Epoch 89/100\n",
            "1022/1022 [==============================] - 2s 2ms/step - loss: 0.1511 - acc: 0.9374 - val_loss: 0.4353 - val_acc: 0.8904\n",
            "Epoch 90/100\n",
            "1022/1022 [==============================] - 2s 2ms/step - loss: 0.1532 - acc: 0.9393 - val_loss: 0.3551 - val_acc: 0.9041\n",
            "Epoch 91/100\n",
            "1022/1022 [==============================] - 2s 2ms/step - loss: 0.1192 - acc: 0.9462 - val_loss: 0.5861 - val_acc: 0.8904\n",
            "Epoch 92/100\n",
            "1022/1022 [==============================] - 2s 2ms/step - loss: 0.1542 - acc: 0.9325 - val_loss: 0.3651 - val_acc: 0.8904\n",
            "Epoch 93/100\n",
            "1022/1022 [==============================] - 2s 2ms/step - loss: 0.1247 - acc: 0.9452 - val_loss: 0.4258 - val_acc: 0.9087\n",
            "Epoch 94/100\n",
            "1022/1022 [==============================] - 2s 2ms/step - loss: 0.1038 - acc: 0.9530 - val_loss: 0.3880 - val_acc: 0.8767\n",
            "Epoch 95/100\n",
            "1022/1022 [==============================] - 2s 2ms/step - loss: 0.1152 - acc: 0.9511 - val_loss: 0.4113 - val_acc: 0.9087\n",
            "Epoch 96/100\n",
            "1022/1022 [==============================] - 2s 2ms/step - loss: 0.1061 - acc: 0.9530 - val_loss: 0.3617 - val_acc: 0.8904\n",
            "Epoch 97/100\n",
            "1022/1022 [==============================] - 2s 2ms/step - loss: 0.1664 - acc: 0.9305 - val_loss: 0.3435 - val_acc: 0.8950\n",
            "Epoch 98/100\n",
            "1022/1022 [==============================] - 2s 2ms/step - loss: 0.1157 - acc: 0.9511 - val_loss: 0.3600 - val_acc: 0.8950\n",
            "Epoch 99/100\n",
            "1022/1022 [==============================] - 2s 2ms/step - loss: 0.1291 - acc: 0.9462 - val_loss: 0.4342 - val_acc: 0.8584\n",
            "Epoch 100/100\n",
            "1022/1022 [==============================] - 2s 2ms/step - loss: 0.1169 - acc: 0.9481 - val_loss: 0.4435 - val_acc: 0.8950\n"
          ],
          "name": "stdout"
        }
      ]
    },
    {
      "cell_type": "markdown",
      "metadata": {
        "id": "2qYQybRRrXtQ",
        "colab_type": "text"
      },
      "source": [
        ""
      ]
    },
    {
      "cell_type": "markdown",
      "metadata": {
        "id": "q5I6pE7GsQlZ",
        "colab_type": "text"
      },
      "source": [
        ""
      ]
    },
    {
      "cell_type": "code",
      "metadata": {
        "id": "heUWxdCncamc",
        "colab_type": "code",
        "colab": {
          "base_uri": "https://localhost:8080/",
          "height": 295
        },
        "outputId": "2c0367d4-a221-4844-fa57-1a2eb018797b"
      },
      "source": [
        "plt.plot(hist_2.history['loss'])\n",
        "plt.plot(hist_2.history['val_loss'])\n",
        "plt.title('Model loss')\n",
        "plt.ylabel('Loss')\n",
        "plt.xlabel('Epoch')\n",
        "plt.legend(['Train', 'Val'], loc='upper right')\n",
        "plt.show()"
      ],
      "execution_count": 84,
      "outputs": [
        {
          "output_type": "display_data",
          "data": {
            "image/png": "[encoded data removed]",
            "text/plain": [
              "<Figure size 432x288 with 1 Axes>"
            ]
          },
          "metadata": {
            "tags": []
          }
        }
      ]
    },
    {
      "cell_type": "code",
      "metadata": {
        "id": "5osKXW7Qcayi",
        "colab_type": "code",
        "colab": {
          "base_uri": "https://localhost:8080/",
          "height": 295
        },
        "outputId": "fa73f85b-f0bb-4dcc-c48a-46d11859713b"
      },
      "source": [
        "plt.plot(hist_2.history['acc'])\n",
        "plt.plot(hist_2.history['val_acc'])\n",
        "plt.title('Model accuracy')\n",
        "plt.ylabel('Accuracy')\n",
        "plt.xlabel('Epoch')\n",
        "plt.legend(['Train', 'Val'], loc='lower right')\n",
        "plt.show()"
      ],
      "execution_count": 85,
      "outputs": [
        {
          "output_type": "display_data",
          "data": {
            "image/png": "[encoded data removed]",
            "text/plain": [
              "<Figure size 432x288 with 1 Axes>"
            ]
          },
          "metadata": {
            "tags": []
          }
        }
      ]
    },
    {
      "cell_type": "code",
      "metadata": {
        "id": "4fWA7OQ3ca6R",
        "colab_type": "code",
        "colab": {}
      },
      "source": [
        "model_3 = Sequential([\n",
        "    Dense(1000, activation='relu', kernel_regularizer=regularizers.l2(0.01), input_shape=(10,)),\n",
        "    Dropout(0.3),\n",
        "    Dense(1000, activation='relu', kernel_regularizer=regularizers.l2(0.01)),\n",
        "    Dropout(0.3),\n",
        "    Dense(1000, activation='relu', kernel_regularizer=regularizers.l2(0.01)),\n",
        "    Dropout(0.3),\n",
        "    Dense(1000, activation='relu', kernel_regularizer=regularizers.l2(0.01)),\n",
        "    Dropout(0.3),\n",
        "    Dense(1, activation='sigmoid', kernel_regularizer=regularizers.l2(0.01)),\n",
        "])"
      ],
      "execution_count": 0,
      "outputs": []
    },
    {
      "cell_type": "code",
      "metadata": {
        "id": "fOmDKT4KcbEa",
        "colab_type": "code",
        "colab": {
          "base_uri": "https://localhost:8080/",
          "height": 1000
        },
        "outputId": "2fd5758d-07c4-4470-8865-13c622521386"
      },
      "source": [
        "model_3.compile(optimizer='adam',\n",
        "              loss='binary_crossentropy',\n",
        "              metrics=['accuracy'])\n",
        "\n",
        "hist_3 = model_3.fit(X_train, Y_train,\n",
        "          batch_size=32, epochs=100,\n",
        "          validation_data=(X_val, Y_val))"
      ],
      "execution_count": 87,
      "outputs": [
        {
          "output_type": "stream",
          "text": [
            "Train on 1022 samples, validate on 219 samples\n",
            "Epoch 1/100\n",
            "1022/1022 [==============================] - 3s 3ms/step - loss: 14.2268 - acc: 0.6194 - val_loss: 3.8965 - val_acc: 0.8858\n",
            "Epoch 2/100\n",
            "1022/1022 [==============================] - 2s 2ms/step - loss: 1.6550 - acc: 0.8513 - val_loss: 0.6593 - val_acc: 0.8630\n",
            "Epoch 3/100\n",
            "1022/1022 [==============================] - 2s 2ms/step - loss: 0.5615 - acc: 0.8669 - val_loss: 0.5093 - val_acc: 0.8447\n",
            "Epoch 4/100\n",
            "1022/1022 [==============================] - 2s 2ms/step - loss: 0.5133 - acc: 0.8679 - val_loss: 0.4943 - val_acc: 0.8493\n",
            "Epoch 5/100\n",
            "1022/1022 [==============================] - 2s 2ms/step - loss: 0.4983 - acc: 0.8708 - val_loss: 0.5004 - val_acc: 0.8676\n",
            "Epoch 6/100\n",
            "1022/1022 [==============================] - 2s 2ms/step - loss: 0.5252 - acc: 0.8483 - val_loss: 0.4909 - val_acc: 0.8721\n",
            "Epoch 7/100\n",
            "1022/1022 [==============================] - 2s 2ms/step - loss: 0.4948 - acc: 0.8669 - val_loss: 0.5545 - val_acc: 0.8219\n",
            "Epoch 8/100\n",
            "1022/1022 [==============================] - 2s 2ms/step - loss: 0.5184 - acc: 0.8542 - val_loss: 0.4446 - val_acc: 0.8904\n",
            "Epoch 9/100\n",
            "1022/1022 [==============================] - 2s 2ms/step - loss: 0.4727 - acc: 0.8748 - val_loss: 0.4510 - val_acc: 0.8676\n",
            "Epoch 10/100\n",
            "1022/1022 [==============================] - 2s 2ms/step - loss: 0.4803 - acc: 0.8689 - val_loss: 0.4711 - val_acc: 0.8767\n",
            "Epoch 11/100\n",
            "1022/1022 [==============================] - 2s 2ms/step - loss: 0.4764 - acc: 0.8630 - val_loss: 0.5187 - val_acc: 0.8630\n",
            "Epoch 12/100\n",
            "1022/1022 [==============================] - 2s 2ms/step - loss: 0.4875 - acc: 0.8630 - val_loss: 0.5195 - val_acc: 0.8584\n",
            "Epoch 13/100\n",
            "1022/1022 [==============================] - 2s 2ms/step - loss: 0.4707 - acc: 0.8699 - val_loss: 0.4297 - val_acc: 0.9041\n",
            "Epoch 14/100\n",
            "1022/1022 [==============================] - 2s 2ms/step - loss: 0.4577 - acc: 0.8748 - val_loss: 0.4568 - val_acc: 0.8767\n",
            "Epoch 15/100\n",
            "1022/1022 [==============================] - 2s 2ms/step - loss: 0.4780 - acc: 0.8571 - val_loss: 0.4662 - val_acc: 0.8447\n",
            "Epoch 16/100\n",
            "1022/1022 [==============================] - 2s 2ms/step - loss: 0.4527 - acc: 0.8826 - val_loss: 0.4245 - val_acc: 0.8995\n",
            "Epoch 17/100\n",
            "1022/1022 [==============================] - 2s 2ms/step - loss: 0.4589 - acc: 0.8748 - val_loss: 0.4281 - val_acc: 0.9041\n",
            "Epoch 18/100\n",
            "1022/1022 [==============================] - 2s 2ms/step - loss: 0.4909 - acc: 0.8571 - val_loss: 0.4507 - val_acc: 0.8813\n",
            "Epoch 19/100\n",
            "1022/1022 [==============================] - 2s 2ms/step - loss: 0.4803 - acc: 0.8640 - val_loss: 0.4384 - val_acc: 0.8813\n",
            "Epoch 20/100\n",
            "1022/1022 [==============================] - 2s 2ms/step - loss: 0.4535 - acc: 0.8748 - val_loss: 0.4197 - val_acc: 0.8858\n",
            "Epoch 21/100\n",
            "1022/1022 [==============================] - 2s 2ms/step - loss: 0.4644 - acc: 0.8699 - val_loss: 0.4275 - val_acc: 0.8858\n",
            "Epoch 22/100\n",
            "1022/1022 [==============================] - 2s 2ms/step - loss: 0.4614 - acc: 0.8708 - val_loss: 0.4258 - val_acc: 0.8904\n",
            "Epoch 23/100\n",
            "1022/1022 [==============================] - 2s 2ms/step - loss: 0.4609 - acc: 0.8767 - val_loss: 0.4284 - val_acc: 0.8858\n",
            "Epoch 24/100\n",
            "1022/1022 [==============================] - 2s 2ms/step - loss: 0.4566 - acc: 0.8650 - val_loss: 0.4654 - val_acc: 0.8584\n",
            "Epoch 25/100\n",
            "1022/1022 [==============================] - 2s 2ms/step - loss: 0.4635 - acc: 0.8699 - val_loss: 0.4226 - val_acc: 0.8813\n",
            "Epoch 26/100\n",
            "1022/1022 [==============================] - 2s 2ms/step - loss: 0.4537 - acc: 0.8806 - val_loss: 0.4390 - val_acc: 0.8676\n",
            "Epoch 27/100\n",
            "1022/1022 [==============================] - 2s 2ms/step - loss: 0.4456 - acc: 0.8757 - val_loss: 0.4252 - val_acc: 0.8813\n",
            "Epoch 28/100\n",
            "1022/1022 [==============================] - 2s 2ms/step - loss: 0.4597 - acc: 0.8630 - val_loss: 0.4174 - val_acc: 0.8858\n",
            "Epoch 29/100\n",
            "1022/1022 [==============================] - 2s 2ms/step - loss: 0.4494 - acc: 0.8659 - val_loss: 0.4180 - val_acc: 0.8858\n",
            "Epoch 30/100\n",
            "1022/1022 [==============================] - 2s 2ms/step - loss: 0.4586 - acc: 0.8650 - val_loss: 0.4375 - val_acc: 0.8995\n",
            "Epoch 31/100\n",
            "1022/1022 [==============================] - 2s 2ms/step - loss: 0.4517 - acc: 0.8659 - val_loss: 0.4199 - val_acc: 0.8813\n",
            "Epoch 32/100\n",
            "1022/1022 [==============================] - 2s 2ms/step - loss: 0.4419 - acc: 0.8816 - val_loss: 0.4461 - val_acc: 0.8813\n",
            "Epoch 33/100\n",
            "1022/1022 [==============================] - 2s 2ms/step - loss: 0.4703 - acc: 0.8571 - val_loss: 0.4638 - val_acc: 0.8584\n",
            "Epoch 34/100\n",
            "1022/1022 [==============================] - 2s 2ms/step - loss: 0.4576 - acc: 0.8591 - val_loss: 0.4545 - val_acc: 0.8676\n",
            "Epoch 35/100\n",
            "1022/1022 [==============================] - 2s 2ms/step - loss: 0.4632 - acc: 0.8601 - val_loss: 0.4436 - val_acc: 0.8630\n",
            "Epoch 36/100\n",
            "1022/1022 [==============================] - 2s 2ms/step - loss: 0.4553 - acc: 0.8601 - val_loss: 0.4665 - val_acc: 0.8721\n",
            "Epoch 37/100\n",
            "1022/1022 [==============================] - 2s 2ms/step - loss: 0.4500 - acc: 0.8777 - val_loss: 0.4143 - val_acc: 0.9041\n",
            "Epoch 38/100\n",
            "1022/1022 [==============================] - 2s 2ms/step - loss: 0.4486 - acc: 0.8640 - val_loss: 0.4128 - val_acc: 0.8904\n",
            "Epoch 39/100\n",
            "1022/1022 [==============================] - 2s 2ms/step - loss: 0.4544 - acc: 0.8777 - val_loss: 0.4200 - val_acc: 0.8858\n",
            "Epoch 40/100\n",
            "1022/1022 [==============================] - 2s 2ms/step - loss: 0.4459 - acc: 0.8679 - val_loss: 0.4260 - val_acc: 0.8813\n",
            "Epoch 41/100\n",
            "1022/1022 [==============================] - 2s 2ms/step - loss: 0.4471 - acc: 0.8748 - val_loss: 0.4289 - val_acc: 0.8721\n",
            "Epoch 42/100\n",
            "1022/1022 [==============================] - 2s 2ms/step - loss: 0.4481 - acc: 0.8777 - val_loss: 0.4121 - val_acc: 0.8950\n",
            "Epoch 43/100\n",
            "1022/1022 [==============================] - 2s 2ms/step - loss: 0.4430 - acc: 0.8748 - val_loss: 0.4140 - val_acc: 0.8904\n",
            "Epoch 44/100\n",
            "1022/1022 [==============================] - 2s 2ms/step - loss: 0.4510 - acc: 0.8757 - val_loss: 0.4694 - val_acc: 0.8721\n",
            "Epoch 45/100\n",
            "1022/1022 [==============================] - 2s 2ms/step - loss: 0.4507 - acc: 0.8787 - val_loss: 0.4747 - val_acc: 0.8676\n",
            "Epoch 46/100\n",
            "1022/1022 [==============================] - 2s 2ms/step - loss: 0.4529 - acc: 0.8806 - val_loss: 0.4930 - val_acc: 0.8539\n",
            "Epoch 47/100\n",
            "1022/1022 [==============================] - 2s 2ms/step - loss: 0.4440 - acc: 0.8787 - val_loss: 0.4158 - val_acc: 0.8904\n",
            "Epoch 48/100\n",
            "1022/1022 [==============================] - 2s 2ms/step - loss: 0.4477 - acc: 0.8767 - val_loss: 0.4223 - val_acc: 0.8904\n",
            "Epoch 49/100\n",
            "1022/1022 [==============================] - 2s 2ms/step - loss: 0.4527 - acc: 0.8601 - val_loss: 0.4287 - val_acc: 0.9041\n",
            "Epoch 50/100\n",
            "1022/1022 [==============================] - 2s 2ms/step - loss: 0.4405 - acc: 0.8816 - val_loss: 0.4192 - val_acc: 0.8950\n",
            "Epoch 51/100\n",
            "1022/1022 [==============================] - 2s 2ms/step - loss: 0.4430 - acc: 0.8718 - val_loss: 0.4254 - val_acc: 0.8721\n",
            "Epoch 52/100\n",
            "1022/1022 [==============================] - 2s 2ms/step - loss: 0.4572 - acc: 0.8650 - val_loss: 0.4232 - val_acc: 0.8995\n",
            "Epoch 53/100\n",
            "1022/1022 [==============================] - 2s 2ms/step - loss: 0.4443 - acc: 0.8806 - val_loss: 0.4288 - val_acc: 0.8721\n",
            "Epoch 54/100\n",
            "1022/1022 [==============================] - 2s 2ms/step - loss: 0.4629 - acc: 0.8640 - val_loss: 0.4531 - val_acc: 0.8813\n",
            "Epoch 55/100\n",
            "1022/1022 [==============================] - 2s 2ms/step - loss: 0.4504 - acc: 0.8826 - val_loss: 0.4201 - val_acc: 0.8858\n",
            "Epoch 56/100\n",
            "1022/1022 [==============================] - 2s 2ms/step - loss: 0.4420 - acc: 0.8728 - val_loss: 0.4156 - val_acc: 0.8995\n",
            "Epoch 57/100\n",
            "1022/1022 [==============================] - 2s 2ms/step - loss: 0.4421 - acc: 0.8767 - val_loss: 0.4410 - val_acc: 0.8584\n",
            "Epoch 58/100\n",
            "1022/1022 [==============================] - 2s 2ms/step - loss: 0.4488 - acc: 0.8738 - val_loss: 0.4232 - val_acc: 0.8950\n",
            "Epoch 59/100\n",
            "1022/1022 [==============================] - 2s 2ms/step - loss: 0.4360 - acc: 0.8806 - val_loss: 0.4195 - val_acc: 0.8858\n",
            "Epoch 60/100\n",
            "1022/1022 [==============================] - 2s 2ms/step - loss: 0.4608 - acc: 0.8708 - val_loss: 0.5496 - val_acc: 0.8219\n",
            "Epoch 61/100\n",
            "1022/1022 [==============================] - 2s 2ms/step - loss: 0.4648 - acc: 0.8738 - val_loss: 0.4340 - val_acc: 0.8630\n",
            "Epoch 62/100\n",
            "1022/1022 [==============================] - 2s 2ms/step - loss: 0.4456 - acc: 0.8728 - val_loss: 0.4255 - val_acc: 0.8813\n",
            "Epoch 63/100\n",
            "1022/1022 [==============================] - 2s 2ms/step - loss: 0.4502 - acc: 0.8689 - val_loss: 0.4543 - val_acc: 0.8630\n",
            "Epoch 64/100\n",
            "1022/1022 [==============================] - 2s 2ms/step - loss: 0.4791 - acc: 0.8601 - val_loss: 0.4286 - val_acc: 0.8767\n",
            "Epoch 65/100\n",
            "1022/1022 [==============================] - 2s 2ms/step - loss: 0.4529 - acc: 0.8757 - val_loss: 0.4171 - val_acc: 0.8904\n",
            "Epoch 66/100\n",
            "1022/1022 [==============================] - 2s 2ms/step - loss: 0.4452 - acc: 0.8787 - val_loss: 0.4190 - val_acc: 0.8904\n",
            "Epoch 67/100\n",
            "1022/1022 [==============================] - 2s 2ms/step - loss: 0.4361 - acc: 0.8718 - val_loss: 0.4230 - val_acc: 0.8721\n",
            "Epoch 68/100\n",
            "1022/1022 [==============================] - 2s 2ms/step - loss: 0.4584 - acc: 0.8757 - val_loss: 0.4182 - val_acc: 0.8858\n",
            "Epoch 69/100\n",
            "1022/1022 [==============================] - 2s 2ms/step - loss: 0.4623 - acc: 0.8689 - val_loss: 0.4321 - val_acc: 0.8676\n",
            "Epoch 70/100\n",
            "1022/1022 [==============================] - 2s 2ms/step - loss: 0.4454 - acc: 0.8767 - val_loss: 0.4332 - val_acc: 0.8676\n",
            "Epoch 71/100\n",
            "1022/1022 [==============================] - 2s 2ms/step - loss: 0.4339 - acc: 0.8816 - val_loss: 0.4169 - val_acc: 0.8950\n",
            "Epoch 72/100\n",
            "1022/1022 [==============================] - 2s 2ms/step - loss: 0.4550 - acc: 0.8728 - val_loss: 0.4910 - val_acc: 0.8493\n",
            "Epoch 73/100\n",
            "1022/1022 [==============================] - 2s 2ms/step - loss: 0.4479 - acc: 0.8757 - val_loss: 0.4164 - val_acc: 0.8858\n",
            "Epoch 74/100\n",
            "1022/1022 [==============================] - 2s 2ms/step - loss: 0.4398 - acc: 0.8796 - val_loss: 0.4128 - val_acc: 0.8950\n",
            "Epoch 75/100\n",
            "1022/1022 [==============================] - 2s 2ms/step - loss: 0.4707 - acc: 0.8562 - val_loss: 0.5098 - val_acc: 0.8311\n",
            "Epoch 76/100\n",
            "1022/1022 [==============================] - 2s 2ms/step - loss: 0.4859 - acc: 0.8630 - val_loss: 0.4564 - val_acc: 0.8584\n",
            "Epoch 77/100\n",
            "1022/1022 [==============================] - 2s 2ms/step - loss: 0.4630 - acc: 0.8659 - val_loss: 0.4291 - val_acc: 0.8721\n",
            "Epoch 78/100\n",
            "1022/1022 [==============================] - 2s 2ms/step - loss: 0.4352 - acc: 0.8787 - val_loss: 0.4787 - val_acc: 0.8539\n",
            "Epoch 79/100\n",
            "1022/1022 [==============================] - 2s 2ms/step - loss: 0.4464 - acc: 0.8796 - val_loss: 0.4566 - val_acc: 0.8630\n",
            "Epoch 80/100\n",
            "1022/1022 [==============================] - 2s 2ms/step - loss: 0.4518 - acc: 0.8699 - val_loss: 0.4613 - val_acc: 0.8584\n",
            "Epoch 81/100\n",
            "1022/1022 [==============================] - 2s 2ms/step - loss: 0.4763 - acc: 0.8611 - val_loss: 0.4292 - val_acc: 0.8813\n",
            "Epoch 82/100\n",
            "1022/1022 [==============================] - 2s 2ms/step - loss: 0.4398 - acc: 0.8816 - val_loss: 0.4155 - val_acc: 0.8858\n",
            "Epoch 83/100\n",
            "1022/1022 [==============================] - 2s 2ms/step - loss: 0.4441 - acc: 0.8728 - val_loss: 0.4163 - val_acc: 0.8995\n",
            "Epoch 84/100\n",
            "1022/1022 [==============================] - 2s 2ms/step - loss: 0.4367 - acc: 0.8767 - val_loss: 0.4239 - val_acc: 0.8950\n",
            "Epoch 85/100\n",
            "1022/1022 [==============================] - 2s 2ms/step - loss: 0.4692 - acc: 0.8532 - val_loss: 0.4224 - val_acc: 0.8858\n",
            "Epoch 86/100\n",
            "1022/1022 [==============================] - 2s 2ms/step - loss: 0.4554 - acc: 0.8767 - val_loss: 0.4176 - val_acc: 0.8995\n",
            "Epoch 87/100\n",
            "1022/1022 [==============================] - 2s 2ms/step - loss: 0.4406 - acc: 0.8728 - val_loss: 0.4361 - val_acc: 0.8950\n",
            "Epoch 88/100\n",
            "1022/1022 [==============================] - 2s 2ms/step - loss: 0.4417 - acc: 0.8738 - val_loss: 0.4391 - val_acc: 0.8858\n",
            "Epoch 89/100\n",
            "1022/1022 [==============================] - 2s 2ms/step - loss: 0.4412 - acc: 0.8777 - val_loss: 0.4137 - val_acc: 0.8904\n",
            "Epoch 90/100\n",
            "1022/1022 [==============================] - 2s 2ms/step - loss: 0.4737 - acc: 0.8650 - val_loss: 0.4453 - val_acc: 0.8676\n",
            "Epoch 91/100\n",
            "1022/1022 [==============================] - 2s 2ms/step - loss: 0.4714 - acc: 0.8659 - val_loss: 0.4506 - val_acc: 0.8584\n",
            "Epoch 92/100\n",
            "1022/1022 [==============================] - 2s 2ms/step - loss: 0.4538 - acc: 0.8669 - val_loss: 0.4301 - val_acc: 0.8676\n",
            "Epoch 93/100\n",
            "1022/1022 [==============================] - 2s 2ms/step - loss: 0.4353 - acc: 0.8757 - val_loss: 0.4184 - val_acc: 0.9041\n",
            "Epoch 94/100\n",
            "1022/1022 [==============================] - 2s 2ms/step - loss: 0.4372 - acc: 0.8806 - val_loss: 0.4240 - val_acc: 0.8950\n",
            "Epoch 95/100\n",
            "1022/1022 [==============================] - 2s 2ms/step - loss: 0.4435 - acc: 0.8738 - val_loss: 0.4406 - val_acc: 0.8630\n",
            "Epoch 96/100\n",
            "1022/1022 [==============================] - 2s 2ms/step - loss: 0.4915 - acc: 0.8552 - val_loss: 0.4486 - val_acc: 0.8995\n",
            "Epoch 97/100\n",
            "1022/1022 [==============================] - 2s 2ms/step - loss: 0.4518 - acc: 0.8728 - val_loss: 0.4141 - val_acc: 0.8995\n",
            "Epoch 98/100\n",
            "1022/1022 [==============================] - 2s 2ms/step - loss: 0.4477 - acc: 0.8669 - val_loss: 0.4175 - val_acc: 0.8950\n",
            "Epoch 99/100\n",
            "1022/1022 [==============================] - 2s 2ms/step - loss: 0.4374 - acc: 0.8748 - val_loss: 0.4144 - val_acc: 0.8904\n",
            "Epoch 100/100\n",
            "1022/1022 [==============================] - 2s 2ms/step - loss: 0.4325 - acc: 0.8806 - val_loss: 0.4793 - val_acc: 0.8630\n"
          ],
          "name": "stdout"
        }
      ]
    },
    {
      "cell_type": "code",
      "metadata": {
        "id": "jgLPuE2BcarV",
        "colab_type": "code",
        "colab": {
          "base_uri": "https://localhost:8080/",
          "height": 295
        },
        "outputId": "8e7d5b00-aa61-42b0-fe7a-1689fc9748e9"
      },
      "source": [
        "plt.plot(hist_3.history['loss'])\n",
        "plt.plot(hist_3.history['val_loss'])\n",
        "plt.title('Model loss')\n",
        "plt.ylabel('Loss')\n",
        "plt.xlabel('Epoch')\n",
        "plt.legend(['Train', 'Val'], loc='upper right')\n",
        "plt.ylim(top=1.2, bottom=0)\n",
        "plt.show()"
      ],
      "execution_count": 88,
      "outputs": [
        {
          "output_type": "display_data",
          "data": {
            "image/png": "[encoded data removed]",
            "text/plain": [
              "<Figure size 432x288 with 1 Axes>"
            ]
          },
          "metadata": {
            "tags": []
          }
        }
      ]
    },
    {
      "cell_type": "code",
      "metadata": {
        "id": "-y2aI5Kacajc",
        "colab_type": "code",
        "colab": {
          "base_uri": "https://localhost:8080/",
          "height": 295
        },
        "outputId": "9096db12-c26b-466a-b21a-24d26039cc35"
      },
      "source": [
        "plt.plot(hist_3.history['acc'])\n",
        "plt.plot(hist_3.history['val_acc'])\n",
        "plt.title('Model accuracy')\n",
        "plt.ylabel('Accuracy')\n",
        "plt.xlabel('Epoch')\n",
        "plt.legend(['Train', 'Val'], loc='lower right')\n",
        "plt.show()"
      ],
      "execution_count": 89,
      "outputs": [
        {
          "output_type": "display_data",
          "data": {
            "image/png": "[encoded data removed]",
            "text/plain": [
              "<Figure size 432x288 with 1 Axes>"
            ]
          },
          "metadata": {
            "tags": []
          }
        }
      ]
    },
    {
      "cell_type": "markdown",
      "metadata": {
        "id": "strOGxjET8Hy",
        "colab_type": "text"
      },
      "source": [
        ""
      ]
    },
    {
      "cell_type": "markdown",
      "metadata": {
        "id": "4mXUUcKdOT7H",
        "colab_type": "text"
      },
      "source": [
        ""
      ]
    }
  ]
}